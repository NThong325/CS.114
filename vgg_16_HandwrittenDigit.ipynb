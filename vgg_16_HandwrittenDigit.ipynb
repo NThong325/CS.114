{
  "metadata": {
    "kernelspec": {
      "display_name": "Python 3",
      "name": "python3"
    },
    "language_info": {
      "codemirror_mode": {
        "name": "ipython",
        "version": 3
      },
      "file_extension": ".py",
      "mimetype": "text/x-python",
      "name": "python",
      "nbconvert_exporter": "python",
      "pygments_lexer": "ipython3",
      "version": "3.11.11"
    },
    "kaggle": {
      "accelerator": "nvidiaTeslaT4",
      "dataSources": [
        {
          "sourceId": 12153565,
          "sourceType": "datasetVersion",
          "datasetId": 7654174
        },
        {
          "sourceId": 12229122,
          "sourceType": "datasetVersion",
          "datasetId": 7705063
        }
      ],
      "dockerImageVersionId": 31041,
      "isInternetEnabled": true,
      "language": "python",
      "sourceType": "notebook",
      "isGpuEnabled": true
    },
    "colab": {
      "provenance": []
    },
    "papermill": {
      "default_parameters": {},
      "duration": 1552.848323,
      "end_time": "2025-06-20T12:09:11.460383",
      "environment_variables": {},
      "exception": null,
      "input_path": "__notebook__.ipynb",
      "output_path": "__notebook__.ipynb",
      "parameters": {},
      "start_time": "2025-06-20T11:43:18.612060",
      "version": "2.6.0"
    }
  },
  "nbformat_minor": 5,
  "nbformat": 4,
  "cells": [
    {
      "id": "081af6b9",
      "cell_type": "markdown",
      "source": [
        "1. Import các thư viện"
      ],
      "metadata": {
        "papermill": {
          "duration": 0.003345,
          "end_time": "2025-06-20T11:43:22.726495",
          "exception": false,
          "start_time": "2025-06-20T11:43:22.723150",
          "status": "completed"
        },
        "tags": [],
        "id": "081af6b9"
      }
    },
    {
      "id": "3a1756c1",
      "cell_type": "code",
      "source": [
        "import os\n",
        "import numpy as np\n",
        "import cv2\n",
        "import pyheif\n",
        "\n",
        "import tensorflow as tf\n",
        "import matplotlib.pyplot as plt\n",
        "from tensorflow.keras import layers, models\n",
        "\n",
        "from tensorflow.keras.applications import VGG16\n",
        "from tensorflow.keras.layers import Flatten, Dense, Dropout\n",
        "from tensorflow.keras.models import Model\n",
        "from tensorflow.keras.optimizers import Adam\n",
        "\n",
        "from sklearn.preprocessing import LabelEncoder\n",
        "from tensorflow.keras.utils import to_categorical\n",
        "from sklearn.model_selection import train_test_split\n",
        "from tensorflow.keras.callbacks import EarlyStopping"
      ],
      "metadata": {
        "execution": {
          "iopub.status.busy": "2025-06-24T03:07:57.529815Z",
          "iopub.execute_input": "2025-06-24T03:07:57.530560Z",
          "iopub.status.idle": "2025-06-24T03:07:57.535190Z",
          "shell.execute_reply.started": "2025-06-24T03:07:57.530534Z",
          "shell.execute_reply": "2025-06-24T03:07:57.534460Z"
        },
        "id": "3a1756c1",
        "papermill": {
          "duration": 14.130568,
          "end_time": "2025-06-20T11:43:36.859898",
          "exception": false,
          "start_time": "2025-06-20T11:43:22.729330",
          "status": "completed"
        },
        "tags": [],
        "trusted": true
      },
      "outputs": [],
      "execution_count": 2
    },
    {
      "id": "5768f010",
      "cell_type": "markdown",
      "source": [
        "2. Data processing"
      ],
      "metadata": {
        "id": "5768f010",
        "papermill": {
          "duration": 0.002483,
          "end_time": "2025-06-20T11:43:36.865453",
          "exception": false,
          "start_time": "2025-06-20T11:43:36.862970",
          "status": "completed"
        },
        "tags": []
      }
    },
    {
      "cell_type": "code",
      "source": [
        "from google.colab import drive\n",
        "drive.mount('/gdrive')"
      ],
      "metadata": {
        "id": "mu0jHz6KkQfR",
        "colab": {
          "base_uri": "https://localhost:8080/"
        },
        "outputId": "3fc04f42-2fe3-4bd1-a776-0f11e841b7d6"
      },
      "id": "mu0jHz6KkQfR",
      "execution_count": 3,
      "outputs": [
        {
          "output_type": "stream",
          "name": "stdout",
          "text": [
            "Drive already mounted at /gdrive; to attempt to forcibly remount, call drive.mount(\"/gdrive\", force_remount=True).\n"
          ]
        }
      ]
    },
    {
      "id": "3a990e6b",
      "cell_type": "code",
      "source": [
        "# Hàm đọc dữ liệu từ thư mục (bao gồm cả training và validation)\n",
        "def load_dataset_from_dir(data_dir, img_size=(224,224)):\n",
        "    X, y = [], []\n",
        "    classes = sorted(d for d in os.listdir(data_dir)\n",
        "                     if os.path.isdir(os.path.join(data_dir, d)))\n",
        "    label_map = {cls:i for i,cls in enumerate(classes)}\n",
        "\n",
        "    for cls in classes:\n",
        "        cls_dir = os.path.join(data_dir, cls)\n",
        "        for fname in os.listdir(cls_dir):\n",
        "            if fname.lower().endswith(('.jpg','.jpeg','.png','heic','jfif','heif')):  # Thêm các định dạng ảnh\n",
        "                path = os.path.join(cls_dir, fname)\n",
        "                img = cv2.imread(path, cv2.IMREAD_COLOR)\n",
        "                if img is None:\n",
        "                    continue\n",
        "                img = cv2.cvtColor(img, cv2.COLOR_BGR2RGB)\n",
        "                img = cv2.resize(img, img_size)\n",
        "                img = img.astype(np.float16) / 255.0\n",
        "                X.append(img)\n",
        "                y.append(cls)\n",
        "\n",
        "    X = np.array(X)\n",
        "    y = np.array(y)\n",
        "\n",
        "    return X, y, label_map\n",
        "\n",
        "\n",
        "# Đọc dữ liệu từ Google Drive\n",
        "dataset_path_train = '/gdrive/MyDrive/DoAN/Bai05/Dataset/train'\n",
        "dataset_path_val = '/gdrive/MyDrive/DoAN/Bai05/Dataset/val'\n",
        "\n",
        "X_train, y_train, label_map_train = load_dataset_from_dir(dataset_path_train, img_size=(224,224))\n",
        "X_val, y_val, label_map_val = load_dataset_from_dir(dataset_path_val, img_size=(224,224))\n",
        "\n",
        "print(f\"Tổng số ảnh trong tập TRAIN: {len(X_train)}\")\n",
        "print(f\"Tổng số ảnh trong tập VALIDATION: {len(X_val)}\")\n"
      ],
      "metadata": {
        "execution": {
          "iopub.status.busy": "2025-06-24T03:08:02.135811Z",
          "iopub.execute_input": "2025-06-24T03:08:02.136504Z",
          "iopub.status.idle": "2025-06-24T03:09:57.190977Z",
          "shell.execute_reply.started": "2025-06-24T03:08:02.136478Z",
          "shell.execute_reply": "2025-06-24T03:09:57.190241Z"
        },
        "id": "3a990e6b",
        "papermill": {
          "duration": 117.340595,
          "end_time": "2025-06-20T11:45:34.208659",
          "exception": false,
          "start_time": "2025-06-20T11:43:36.868064",
          "status": "completed"
        },
        "tags": [],
        "trusted": true,
        "colab": {
          "base_uri": "https://localhost:8080/"
        },
        "outputId": "c6afeddf-9076-4d3f-bd0a-696afc98f2ff"
      },
      "outputs": [
        {
          "output_type": "stream",
          "name": "stdout",
          "text": [
            "Tổng số ảnh trong tập TRAIN: 4282\n",
            "Tổng số ảnh trong tập VALIDATION: 1225\n"
          ]
        }
      ],
      "execution_count": 4
    },
    {
      "id": "3cb3c5d4",
      "cell_type": "code",
      "source": [
        "# Encode nhãn và chia dữ liệu train/test\n",
        "le = LabelEncoder()\n",
        "y_train_num = le.fit_transform(y_train)\n",
        "num_classes = len(le.classes_)\n",
        "\n",
        "print(y_train_num)"
      ],
      "metadata": {
        "execution": {
          "iopub.status.busy": "2025-06-24T03:10:09.058214Z",
          "iopub.execute_input": "2025-06-24T03:10:09.058654Z",
          "iopub.status.idle": "2025-06-24T03:10:09.064043Z",
          "shell.execute_reply.started": "2025-06-24T03:10:09.058631Z",
          "shell.execute_reply": "2025-06-24T03:10:09.063350Z"
        },
        "id": "3cb3c5d4",
        "papermill": {
          "duration": 0.011625,
          "end_time": "2025-06-20T11:45:34.223343",
          "exception": false,
          "start_time": "2025-06-20T11:45:34.211718",
          "status": "completed"
        },
        "tags": [],
        "trusted": true,
        "colab": {
          "base_uri": "https://localhost:8080/"
        },
        "outputId": "6592d803-e165-4aa6-9cec-b604fe2155d4"
      },
      "outputs": [
        {
          "output_type": "stream",
          "name": "stdout",
          "text": [
            "[0 0 0 ... 9 9 9]\n"
          ]
        }
      ],
      "execution_count": 5
    },
    {
      "id": "87fd7fc9",
      "cell_type": "code",
      "source": [
        "# One-hot encode Y\n",
        "Y_train = to_categorical(y_train_num, num_classes)\n",
        "Y_val = to_categorical(y_val, num_classes)\n",
        "\n",
        "print(Y_train)\n",
        "print(Y_val)"
      ],
      "metadata": {
        "execution": {
          "iopub.execute_input": "2025-06-20T11:45:34.553810Z",
          "iopub.status.busy": "2025-06-20T11:45:34.553401Z",
          "iopub.status.idle": "2025-06-20T11:45:34.559405Z",
          "shell.execute_reply": "2025-06-20T11:45:34.558727Z"
        },
        "papermill": {
          "duration": 0.011824,
          "end_time": "2025-06-20T11:45:34.560562",
          "exception": false,
          "start_time": "2025-06-20T11:45:34.548738",
          "status": "completed"
        },
        "tags": [],
        "jupyter": {
          "outputs_hidden": true
        },
        "id": "87fd7fc9",
        "colab": {
          "base_uri": "https://localhost:8080/"
        },
        "outputId": "2df93564-636c-44c1-e3c0-b7a662c82fd1"
      },
      "outputs": [
        {
          "output_type": "stream",
          "name": "stdout",
          "text": [
            "[[1. 0. 0. ... 0. 0. 0.]\n",
            " [1. 0. 0. ... 0. 0. 0.]\n",
            " [1. 0. 0. ... 0. 0. 0.]\n",
            " ...\n",
            " [0. 0. 0. ... 0. 0. 1.]\n",
            " [0. 0. 0. ... 0. 0. 1.]\n",
            " [0. 0. 0. ... 0. 0. 1.]]\n",
            "[[1. 0. 0. ... 0. 0. 0.]\n",
            " [1. 0. 0. ... 0. 0. 0.]\n",
            " [1. 0. 0. ... 0. 0. 0.]\n",
            " ...\n",
            " [0. 0. 0. ... 0. 0. 1.]\n",
            " [0. 0. 0. ... 0. 0. 1.]\n",
            " [0. 0. 0. ... 0. 0. 1.]]\n"
          ]
        }
      ],
      "execution_count": 8
    },
    {
      "id": "7f579356",
      "cell_type": "markdown",
      "source": [
        "3. Xây dựng model"
      ],
      "metadata": {
        "papermill": {
          "duration": 0.002623,
          "end_time": "2025-06-20T11:45:34.566041",
          "exception": false,
          "start_time": "2025-06-20T11:45:34.563418",
          "status": "completed"
        },
        "tags": [],
        "id": "7f579356"
      }
    },
    {
      "id": "2ddb4c71",
      "cell_type": "code",
      "source": [
        "# Load pre-train model VGG\n",
        "vgg16 = VGG16(weights='imagenet', include_top=False, input_shape=(224, 224, 3))\n",
        "\n",
        "# Đóng băng các lớp của VGG\n",
        "for layer in vgg16.layers:\n",
        "    layer.trainable = False\n",
        "\n",
        "# Thêm các lớp mới cho bài toán phân loại\n",
        "x = Flatten()(vgg16.output)\n",
        "x = Dense(256, activation='relu')(x)\n",
        "x = Dropout(0.5)(x)\n",
        "output = Dense(num_classes, activation='softmax')(x)"
      ],
      "metadata": {
        "execution": {
          "iopub.execute_input": "2025-06-20T11:45:34.572663Z",
          "iopub.status.busy": "2025-06-20T11:45:34.572411Z",
          "iopub.status.idle": "2025-06-20T11:45:37.533679Z",
          "shell.execute_reply": "2025-06-20T11:45:37.533131Z"
        },
        "id": "2ddb4c71",
        "papermill": {
          "duration": 2.966146,
          "end_time": "2025-06-20T11:45:37.534983",
          "exception": false,
          "start_time": "2025-06-20T11:45:34.568837",
          "status": "completed"
        },
        "tags": [],
        "colab": {
          "base_uri": "https://localhost:8080/"
        },
        "outputId": "ff2c7e64-d423-4783-abdc-f952c4405fbc"
      },
      "outputs": [
        {
          "output_type": "stream",
          "name": "stdout",
          "text": [
            "Downloading data from https://storage.googleapis.com/tensorflow/keras-applications/vgg16/vgg16_weights_tf_dim_ordering_tf_kernels_notop.h5\n",
            "\u001b[1m58889256/58889256\u001b[0m \u001b[32m━━━━━━━━━━━━━━━━━━━━\u001b[0m\u001b[37m\u001b[0m \u001b[1m1s\u001b[0m 0us/step\n"
          ]
        }
      ],
      "execution_count": 9
    },
    {
      "id": "2f5b3054",
      "cell_type": "code",
      "source": [
        "# Tạo mô hình mới từ VGG16 + các lớp phân loại mới\n",
        "model = Model(inputs=vgg16.input, outputs=output)\n",
        "\n",
        "model.summary()\n",
        "\n",
        "# Compile mô hình\n",
        "model.compile(optimizer=Adam(), loss='categorical_crossentropy', metrics=['accuracy'])\n",
        "\n",
        "# Callback\n",
        "callbacks = [EarlyStopping(monitor='val_loss', patience=5, restore_best_weights=True)]"
      ],
      "metadata": {
        "execution": {
          "iopub.execute_input": "2025-06-20T11:45:37.542462Z",
          "iopub.status.busy": "2025-06-20T11:45:37.542243Z",
          "iopub.status.idle": "2025-06-20T11:45:37.578347Z",
          "shell.execute_reply": "2025-06-20T11:45:37.577875Z"
        },
        "id": "2f5b3054",
        "papermill": {
          "duration": 0.040906,
          "end_time": "2025-06-20T11:45:37.579408",
          "exception": false,
          "start_time": "2025-06-20T11:45:37.538502",
          "status": "completed"
        },
        "tags": [],
        "colab": {
          "base_uri": "https://localhost:8080/",
          "height": 918
        },
        "outputId": "e6fd378c-2bf5-4d50-83c8-f5de31937ba6"
      },
      "outputs": [
        {
          "output_type": "display_data",
          "data": {
            "text/plain": [
              "\u001b[1mModel: \"functional\"\u001b[0m\n"
            ],
            "text/html": [
              "<pre style=\"white-space:pre;overflow-x:auto;line-height:normal;font-family:Menlo,'DejaVu Sans Mono',consolas,'Courier New',monospace\"><span style=\"font-weight: bold\">Model: \"functional\"</span>\n",
              "</pre>\n"
            ]
          },
          "metadata": {}
        },
        {
          "output_type": "display_data",
          "data": {
            "text/plain": [
              "┏━━━━━━━━━━━━━━━━━━━━━━━━━━━━━━━━━┳━━━━━━━━━━━━━━━━━━━━━━━━┳━━━━━━━━━━━━━━━┓\n",
              "┃\u001b[1m \u001b[0m\u001b[1mLayer (type)                   \u001b[0m\u001b[1m \u001b[0m┃\u001b[1m \u001b[0m\u001b[1mOutput Shape          \u001b[0m\u001b[1m \u001b[0m┃\u001b[1m \u001b[0m\u001b[1m      Param #\u001b[0m\u001b[1m \u001b[0m┃\n",
              "┡━━━━━━━━━━━━━━━━━━━━━━━━━━━━━━━━━╇━━━━━━━━━━━━━━━━━━━━━━━━╇━━━━━━━━━━━━━━━┩\n",
              "│ input_layer (\u001b[38;5;33mInputLayer\u001b[0m)        │ (\u001b[38;5;45mNone\u001b[0m, \u001b[38;5;34m224\u001b[0m, \u001b[38;5;34m224\u001b[0m, \u001b[38;5;34m3\u001b[0m)    │             \u001b[38;5;34m0\u001b[0m │\n",
              "├─────────────────────────────────┼────────────────────────┼───────────────┤\n",
              "│ block1_conv1 (\u001b[38;5;33mConv2D\u001b[0m)           │ (\u001b[38;5;45mNone\u001b[0m, \u001b[38;5;34m224\u001b[0m, \u001b[38;5;34m224\u001b[0m, \u001b[38;5;34m64\u001b[0m)   │         \u001b[38;5;34m1,792\u001b[0m │\n",
              "├─────────────────────────────────┼────────────────────────┼───────────────┤\n",
              "│ block1_conv2 (\u001b[38;5;33mConv2D\u001b[0m)           │ (\u001b[38;5;45mNone\u001b[0m, \u001b[38;5;34m224\u001b[0m, \u001b[38;5;34m224\u001b[0m, \u001b[38;5;34m64\u001b[0m)   │        \u001b[38;5;34m36,928\u001b[0m │\n",
              "├─────────────────────────────────┼────────────────────────┼───────────────┤\n",
              "│ block1_pool (\u001b[38;5;33mMaxPooling2D\u001b[0m)      │ (\u001b[38;5;45mNone\u001b[0m, \u001b[38;5;34m112\u001b[0m, \u001b[38;5;34m112\u001b[0m, \u001b[38;5;34m64\u001b[0m)   │             \u001b[38;5;34m0\u001b[0m │\n",
              "├─────────────────────────────────┼────────────────────────┼───────────────┤\n",
              "│ block2_conv1 (\u001b[38;5;33mConv2D\u001b[0m)           │ (\u001b[38;5;45mNone\u001b[0m, \u001b[38;5;34m112\u001b[0m, \u001b[38;5;34m112\u001b[0m, \u001b[38;5;34m128\u001b[0m)  │        \u001b[38;5;34m73,856\u001b[0m │\n",
              "├─────────────────────────────────┼────────────────────────┼───────────────┤\n",
              "│ block2_conv2 (\u001b[38;5;33mConv2D\u001b[0m)           │ (\u001b[38;5;45mNone\u001b[0m, \u001b[38;5;34m112\u001b[0m, \u001b[38;5;34m112\u001b[0m, \u001b[38;5;34m128\u001b[0m)  │       \u001b[38;5;34m147,584\u001b[0m │\n",
              "├─────────────────────────────────┼────────────────────────┼───────────────┤\n",
              "│ block2_pool (\u001b[38;5;33mMaxPooling2D\u001b[0m)      │ (\u001b[38;5;45mNone\u001b[0m, \u001b[38;5;34m56\u001b[0m, \u001b[38;5;34m56\u001b[0m, \u001b[38;5;34m128\u001b[0m)    │             \u001b[38;5;34m0\u001b[0m │\n",
              "├─────────────────────────────────┼────────────────────────┼───────────────┤\n",
              "│ block3_conv1 (\u001b[38;5;33mConv2D\u001b[0m)           │ (\u001b[38;5;45mNone\u001b[0m, \u001b[38;5;34m56\u001b[0m, \u001b[38;5;34m56\u001b[0m, \u001b[38;5;34m256\u001b[0m)    │       \u001b[38;5;34m295,168\u001b[0m │\n",
              "├─────────────────────────────────┼────────────────────────┼───────────────┤\n",
              "│ block3_conv2 (\u001b[38;5;33mConv2D\u001b[0m)           │ (\u001b[38;5;45mNone\u001b[0m, \u001b[38;5;34m56\u001b[0m, \u001b[38;5;34m56\u001b[0m, \u001b[38;5;34m256\u001b[0m)    │       \u001b[38;5;34m590,080\u001b[0m │\n",
              "├─────────────────────────────────┼────────────────────────┼───────────────┤\n",
              "│ block3_conv3 (\u001b[38;5;33mConv2D\u001b[0m)           │ (\u001b[38;5;45mNone\u001b[0m, \u001b[38;5;34m56\u001b[0m, \u001b[38;5;34m56\u001b[0m, \u001b[38;5;34m256\u001b[0m)    │       \u001b[38;5;34m590,080\u001b[0m │\n",
              "├─────────────────────────────────┼────────────────────────┼───────────────┤\n",
              "│ block3_pool (\u001b[38;5;33mMaxPooling2D\u001b[0m)      │ (\u001b[38;5;45mNone\u001b[0m, \u001b[38;5;34m28\u001b[0m, \u001b[38;5;34m28\u001b[0m, \u001b[38;5;34m256\u001b[0m)    │             \u001b[38;5;34m0\u001b[0m │\n",
              "├─────────────────────────────────┼────────────────────────┼───────────────┤\n",
              "│ block4_conv1 (\u001b[38;5;33mConv2D\u001b[0m)           │ (\u001b[38;5;45mNone\u001b[0m, \u001b[38;5;34m28\u001b[0m, \u001b[38;5;34m28\u001b[0m, \u001b[38;5;34m512\u001b[0m)    │     \u001b[38;5;34m1,180,160\u001b[0m │\n",
              "├─────────────────────────────────┼────────────────────────┼───────────────┤\n",
              "│ block4_conv2 (\u001b[38;5;33mConv2D\u001b[0m)           │ (\u001b[38;5;45mNone\u001b[0m, \u001b[38;5;34m28\u001b[0m, \u001b[38;5;34m28\u001b[0m, \u001b[38;5;34m512\u001b[0m)    │     \u001b[38;5;34m2,359,808\u001b[0m │\n",
              "├─────────────────────────────────┼────────────────────────┼───────────────┤\n",
              "│ block4_conv3 (\u001b[38;5;33mConv2D\u001b[0m)           │ (\u001b[38;5;45mNone\u001b[0m, \u001b[38;5;34m28\u001b[0m, \u001b[38;5;34m28\u001b[0m, \u001b[38;5;34m512\u001b[0m)    │     \u001b[38;5;34m2,359,808\u001b[0m │\n",
              "├─────────────────────────────────┼────────────────────────┼───────────────┤\n",
              "│ block4_pool (\u001b[38;5;33mMaxPooling2D\u001b[0m)      │ (\u001b[38;5;45mNone\u001b[0m, \u001b[38;5;34m14\u001b[0m, \u001b[38;5;34m14\u001b[0m, \u001b[38;5;34m512\u001b[0m)    │             \u001b[38;5;34m0\u001b[0m │\n",
              "├─────────────────────────────────┼────────────────────────┼───────────────┤\n",
              "│ block5_conv1 (\u001b[38;5;33mConv2D\u001b[0m)           │ (\u001b[38;5;45mNone\u001b[0m, \u001b[38;5;34m14\u001b[0m, \u001b[38;5;34m14\u001b[0m, \u001b[38;5;34m512\u001b[0m)    │     \u001b[38;5;34m2,359,808\u001b[0m │\n",
              "├─────────────────────────────────┼────────────────────────┼───────────────┤\n",
              "│ block5_conv2 (\u001b[38;5;33mConv2D\u001b[0m)           │ (\u001b[38;5;45mNone\u001b[0m, \u001b[38;5;34m14\u001b[0m, \u001b[38;5;34m14\u001b[0m, \u001b[38;5;34m512\u001b[0m)    │     \u001b[38;5;34m2,359,808\u001b[0m │\n",
              "├─────────────────────────────────┼────────────────────────┼───────────────┤\n",
              "│ block5_conv3 (\u001b[38;5;33mConv2D\u001b[0m)           │ (\u001b[38;5;45mNone\u001b[0m, \u001b[38;5;34m14\u001b[0m, \u001b[38;5;34m14\u001b[0m, \u001b[38;5;34m512\u001b[0m)    │     \u001b[38;5;34m2,359,808\u001b[0m │\n",
              "├─────────────────────────────────┼────────────────────────┼───────────────┤\n",
              "│ block5_pool (\u001b[38;5;33mMaxPooling2D\u001b[0m)      │ (\u001b[38;5;45mNone\u001b[0m, \u001b[38;5;34m7\u001b[0m, \u001b[38;5;34m7\u001b[0m, \u001b[38;5;34m512\u001b[0m)      │             \u001b[38;5;34m0\u001b[0m │\n",
              "├─────────────────────────────────┼────────────────────────┼───────────────┤\n",
              "│ flatten (\u001b[38;5;33mFlatten\u001b[0m)               │ (\u001b[38;5;45mNone\u001b[0m, \u001b[38;5;34m25088\u001b[0m)          │             \u001b[38;5;34m0\u001b[0m │\n",
              "├─────────────────────────────────┼────────────────────────┼───────────────┤\n",
              "│ dense (\u001b[38;5;33mDense\u001b[0m)                   │ (\u001b[38;5;45mNone\u001b[0m, \u001b[38;5;34m256\u001b[0m)            │     \u001b[38;5;34m6,422,784\u001b[0m │\n",
              "├─────────────────────────────────┼────────────────────────┼───────────────┤\n",
              "│ dropout (\u001b[38;5;33mDropout\u001b[0m)               │ (\u001b[38;5;45mNone\u001b[0m, \u001b[38;5;34m256\u001b[0m)            │             \u001b[38;5;34m0\u001b[0m │\n",
              "├─────────────────────────────────┼────────────────────────┼───────────────┤\n",
              "│ dense_1 (\u001b[38;5;33mDense\u001b[0m)                 │ (\u001b[38;5;45mNone\u001b[0m, \u001b[38;5;34m10\u001b[0m)             │         \u001b[38;5;34m2,570\u001b[0m │\n",
              "└─────────────────────────────────┴────────────────────────┴───────────────┘\n"
            ],
            "text/html": [
              "<pre style=\"white-space:pre;overflow-x:auto;line-height:normal;font-family:Menlo,'DejaVu Sans Mono',consolas,'Courier New',monospace\">┏━━━━━━━━━━━━━━━━━━━━━━━━━━━━━━━━━┳━━━━━━━━━━━━━━━━━━━━━━━━┳━━━━━━━━━━━━━━━┓\n",
              "┃<span style=\"font-weight: bold\"> Layer (type)                    </span>┃<span style=\"font-weight: bold\"> Output Shape           </span>┃<span style=\"font-weight: bold\">       Param # </span>┃\n",
              "┡━━━━━━━━━━━━━━━━━━━━━━━━━━━━━━━━━╇━━━━━━━━━━━━━━━━━━━━━━━━╇━━━━━━━━━━━━━━━┩\n",
              "│ input_layer (<span style=\"color: #0087ff; text-decoration-color: #0087ff\">InputLayer</span>)        │ (<span style=\"color: #00d7ff; text-decoration-color: #00d7ff\">None</span>, <span style=\"color: #00af00; text-decoration-color: #00af00\">224</span>, <span style=\"color: #00af00; text-decoration-color: #00af00\">224</span>, <span style=\"color: #00af00; text-decoration-color: #00af00\">3</span>)    │             <span style=\"color: #00af00; text-decoration-color: #00af00\">0</span> │\n",
              "├─────────────────────────────────┼────────────────────────┼───────────────┤\n",
              "│ block1_conv1 (<span style=\"color: #0087ff; text-decoration-color: #0087ff\">Conv2D</span>)           │ (<span style=\"color: #00d7ff; text-decoration-color: #00d7ff\">None</span>, <span style=\"color: #00af00; text-decoration-color: #00af00\">224</span>, <span style=\"color: #00af00; text-decoration-color: #00af00\">224</span>, <span style=\"color: #00af00; text-decoration-color: #00af00\">64</span>)   │         <span style=\"color: #00af00; text-decoration-color: #00af00\">1,792</span> │\n",
              "├─────────────────────────────────┼────────────────────────┼───────────────┤\n",
              "│ block1_conv2 (<span style=\"color: #0087ff; text-decoration-color: #0087ff\">Conv2D</span>)           │ (<span style=\"color: #00d7ff; text-decoration-color: #00d7ff\">None</span>, <span style=\"color: #00af00; text-decoration-color: #00af00\">224</span>, <span style=\"color: #00af00; text-decoration-color: #00af00\">224</span>, <span style=\"color: #00af00; text-decoration-color: #00af00\">64</span>)   │        <span style=\"color: #00af00; text-decoration-color: #00af00\">36,928</span> │\n",
              "├─────────────────────────────────┼────────────────────────┼───────────────┤\n",
              "│ block1_pool (<span style=\"color: #0087ff; text-decoration-color: #0087ff\">MaxPooling2D</span>)      │ (<span style=\"color: #00d7ff; text-decoration-color: #00d7ff\">None</span>, <span style=\"color: #00af00; text-decoration-color: #00af00\">112</span>, <span style=\"color: #00af00; text-decoration-color: #00af00\">112</span>, <span style=\"color: #00af00; text-decoration-color: #00af00\">64</span>)   │             <span style=\"color: #00af00; text-decoration-color: #00af00\">0</span> │\n",
              "├─────────────────────────────────┼────────────────────────┼───────────────┤\n",
              "│ block2_conv1 (<span style=\"color: #0087ff; text-decoration-color: #0087ff\">Conv2D</span>)           │ (<span style=\"color: #00d7ff; text-decoration-color: #00d7ff\">None</span>, <span style=\"color: #00af00; text-decoration-color: #00af00\">112</span>, <span style=\"color: #00af00; text-decoration-color: #00af00\">112</span>, <span style=\"color: #00af00; text-decoration-color: #00af00\">128</span>)  │        <span style=\"color: #00af00; text-decoration-color: #00af00\">73,856</span> │\n",
              "├─────────────────────────────────┼────────────────────────┼───────────────┤\n",
              "│ block2_conv2 (<span style=\"color: #0087ff; text-decoration-color: #0087ff\">Conv2D</span>)           │ (<span style=\"color: #00d7ff; text-decoration-color: #00d7ff\">None</span>, <span style=\"color: #00af00; text-decoration-color: #00af00\">112</span>, <span style=\"color: #00af00; text-decoration-color: #00af00\">112</span>, <span style=\"color: #00af00; text-decoration-color: #00af00\">128</span>)  │       <span style=\"color: #00af00; text-decoration-color: #00af00\">147,584</span> │\n",
              "├─────────────────────────────────┼────────────────────────┼───────────────┤\n",
              "│ block2_pool (<span style=\"color: #0087ff; text-decoration-color: #0087ff\">MaxPooling2D</span>)      │ (<span style=\"color: #00d7ff; text-decoration-color: #00d7ff\">None</span>, <span style=\"color: #00af00; text-decoration-color: #00af00\">56</span>, <span style=\"color: #00af00; text-decoration-color: #00af00\">56</span>, <span style=\"color: #00af00; text-decoration-color: #00af00\">128</span>)    │             <span style=\"color: #00af00; text-decoration-color: #00af00\">0</span> │\n",
              "├─────────────────────────────────┼────────────────────────┼───────────────┤\n",
              "│ block3_conv1 (<span style=\"color: #0087ff; text-decoration-color: #0087ff\">Conv2D</span>)           │ (<span style=\"color: #00d7ff; text-decoration-color: #00d7ff\">None</span>, <span style=\"color: #00af00; text-decoration-color: #00af00\">56</span>, <span style=\"color: #00af00; text-decoration-color: #00af00\">56</span>, <span style=\"color: #00af00; text-decoration-color: #00af00\">256</span>)    │       <span style=\"color: #00af00; text-decoration-color: #00af00\">295,168</span> │\n",
              "├─────────────────────────────────┼────────────────────────┼───────────────┤\n",
              "│ block3_conv2 (<span style=\"color: #0087ff; text-decoration-color: #0087ff\">Conv2D</span>)           │ (<span style=\"color: #00d7ff; text-decoration-color: #00d7ff\">None</span>, <span style=\"color: #00af00; text-decoration-color: #00af00\">56</span>, <span style=\"color: #00af00; text-decoration-color: #00af00\">56</span>, <span style=\"color: #00af00; text-decoration-color: #00af00\">256</span>)    │       <span style=\"color: #00af00; text-decoration-color: #00af00\">590,080</span> │\n",
              "├─────────────────────────────────┼────────────────────────┼───────────────┤\n",
              "│ block3_conv3 (<span style=\"color: #0087ff; text-decoration-color: #0087ff\">Conv2D</span>)           │ (<span style=\"color: #00d7ff; text-decoration-color: #00d7ff\">None</span>, <span style=\"color: #00af00; text-decoration-color: #00af00\">56</span>, <span style=\"color: #00af00; text-decoration-color: #00af00\">56</span>, <span style=\"color: #00af00; text-decoration-color: #00af00\">256</span>)    │       <span style=\"color: #00af00; text-decoration-color: #00af00\">590,080</span> │\n",
              "├─────────────────────────────────┼────────────────────────┼───────────────┤\n",
              "│ block3_pool (<span style=\"color: #0087ff; text-decoration-color: #0087ff\">MaxPooling2D</span>)      │ (<span style=\"color: #00d7ff; text-decoration-color: #00d7ff\">None</span>, <span style=\"color: #00af00; text-decoration-color: #00af00\">28</span>, <span style=\"color: #00af00; text-decoration-color: #00af00\">28</span>, <span style=\"color: #00af00; text-decoration-color: #00af00\">256</span>)    │             <span style=\"color: #00af00; text-decoration-color: #00af00\">0</span> │\n",
              "├─────────────────────────────────┼────────────────────────┼───────────────┤\n",
              "│ block4_conv1 (<span style=\"color: #0087ff; text-decoration-color: #0087ff\">Conv2D</span>)           │ (<span style=\"color: #00d7ff; text-decoration-color: #00d7ff\">None</span>, <span style=\"color: #00af00; text-decoration-color: #00af00\">28</span>, <span style=\"color: #00af00; text-decoration-color: #00af00\">28</span>, <span style=\"color: #00af00; text-decoration-color: #00af00\">512</span>)    │     <span style=\"color: #00af00; text-decoration-color: #00af00\">1,180,160</span> │\n",
              "├─────────────────────────────────┼────────────────────────┼───────────────┤\n",
              "│ block4_conv2 (<span style=\"color: #0087ff; text-decoration-color: #0087ff\">Conv2D</span>)           │ (<span style=\"color: #00d7ff; text-decoration-color: #00d7ff\">None</span>, <span style=\"color: #00af00; text-decoration-color: #00af00\">28</span>, <span style=\"color: #00af00; text-decoration-color: #00af00\">28</span>, <span style=\"color: #00af00; text-decoration-color: #00af00\">512</span>)    │     <span style=\"color: #00af00; text-decoration-color: #00af00\">2,359,808</span> │\n",
              "├─────────────────────────────────┼────────────────────────┼───────────────┤\n",
              "│ block4_conv3 (<span style=\"color: #0087ff; text-decoration-color: #0087ff\">Conv2D</span>)           │ (<span style=\"color: #00d7ff; text-decoration-color: #00d7ff\">None</span>, <span style=\"color: #00af00; text-decoration-color: #00af00\">28</span>, <span style=\"color: #00af00; text-decoration-color: #00af00\">28</span>, <span style=\"color: #00af00; text-decoration-color: #00af00\">512</span>)    │     <span style=\"color: #00af00; text-decoration-color: #00af00\">2,359,808</span> │\n",
              "├─────────────────────────────────┼────────────────────────┼───────────────┤\n",
              "│ block4_pool (<span style=\"color: #0087ff; text-decoration-color: #0087ff\">MaxPooling2D</span>)      │ (<span style=\"color: #00d7ff; text-decoration-color: #00d7ff\">None</span>, <span style=\"color: #00af00; text-decoration-color: #00af00\">14</span>, <span style=\"color: #00af00; text-decoration-color: #00af00\">14</span>, <span style=\"color: #00af00; text-decoration-color: #00af00\">512</span>)    │             <span style=\"color: #00af00; text-decoration-color: #00af00\">0</span> │\n",
              "├─────────────────────────────────┼────────────────────────┼───────────────┤\n",
              "│ block5_conv1 (<span style=\"color: #0087ff; text-decoration-color: #0087ff\">Conv2D</span>)           │ (<span style=\"color: #00d7ff; text-decoration-color: #00d7ff\">None</span>, <span style=\"color: #00af00; text-decoration-color: #00af00\">14</span>, <span style=\"color: #00af00; text-decoration-color: #00af00\">14</span>, <span style=\"color: #00af00; text-decoration-color: #00af00\">512</span>)    │     <span style=\"color: #00af00; text-decoration-color: #00af00\">2,359,808</span> │\n",
              "├─────────────────────────────────┼────────────────────────┼───────────────┤\n",
              "│ block5_conv2 (<span style=\"color: #0087ff; text-decoration-color: #0087ff\">Conv2D</span>)           │ (<span style=\"color: #00d7ff; text-decoration-color: #00d7ff\">None</span>, <span style=\"color: #00af00; text-decoration-color: #00af00\">14</span>, <span style=\"color: #00af00; text-decoration-color: #00af00\">14</span>, <span style=\"color: #00af00; text-decoration-color: #00af00\">512</span>)    │     <span style=\"color: #00af00; text-decoration-color: #00af00\">2,359,808</span> │\n",
              "├─────────────────────────────────┼────────────────────────┼───────────────┤\n",
              "│ block5_conv3 (<span style=\"color: #0087ff; text-decoration-color: #0087ff\">Conv2D</span>)           │ (<span style=\"color: #00d7ff; text-decoration-color: #00d7ff\">None</span>, <span style=\"color: #00af00; text-decoration-color: #00af00\">14</span>, <span style=\"color: #00af00; text-decoration-color: #00af00\">14</span>, <span style=\"color: #00af00; text-decoration-color: #00af00\">512</span>)    │     <span style=\"color: #00af00; text-decoration-color: #00af00\">2,359,808</span> │\n",
              "├─────────────────────────────────┼────────────────────────┼───────────────┤\n",
              "│ block5_pool (<span style=\"color: #0087ff; text-decoration-color: #0087ff\">MaxPooling2D</span>)      │ (<span style=\"color: #00d7ff; text-decoration-color: #00d7ff\">None</span>, <span style=\"color: #00af00; text-decoration-color: #00af00\">7</span>, <span style=\"color: #00af00; text-decoration-color: #00af00\">7</span>, <span style=\"color: #00af00; text-decoration-color: #00af00\">512</span>)      │             <span style=\"color: #00af00; text-decoration-color: #00af00\">0</span> │\n",
              "├─────────────────────────────────┼────────────────────────┼───────────────┤\n",
              "│ flatten (<span style=\"color: #0087ff; text-decoration-color: #0087ff\">Flatten</span>)               │ (<span style=\"color: #00d7ff; text-decoration-color: #00d7ff\">None</span>, <span style=\"color: #00af00; text-decoration-color: #00af00\">25088</span>)          │             <span style=\"color: #00af00; text-decoration-color: #00af00\">0</span> │\n",
              "├─────────────────────────────────┼────────────────────────┼───────────────┤\n",
              "│ dense (<span style=\"color: #0087ff; text-decoration-color: #0087ff\">Dense</span>)                   │ (<span style=\"color: #00d7ff; text-decoration-color: #00d7ff\">None</span>, <span style=\"color: #00af00; text-decoration-color: #00af00\">256</span>)            │     <span style=\"color: #00af00; text-decoration-color: #00af00\">6,422,784</span> │\n",
              "├─────────────────────────────────┼────────────────────────┼───────────────┤\n",
              "│ dropout (<span style=\"color: #0087ff; text-decoration-color: #0087ff\">Dropout</span>)               │ (<span style=\"color: #00d7ff; text-decoration-color: #00d7ff\">None</span>, <span style=\"color: #00af00; text-decoration-color: #00af00\">256</span>)            │             <span style=\"color: #00af00; text-decoration-color: #00af00\">0</span> │\n",
              "├─────────────────────────────────┼────────────────────────┼───────────────┤\n",
              "│ dense_1 (<span style=\"color: #0087ff; text-decoration-color: #0087ff\">Dense</span>)                 │ (<span style=\"color: #00d7ff; text-decoration-color: #00d7ff\">None</span>, <span style=\"color: #00af00; text-decoration-color: #00af00\">10</span>)             │         <span style=\"color: #00af00; text-decoration-color: #00af00\">2,570</span> │\n",
              "└─────────────────────────────────┴────────────────────────┴───────────────┘\n",
              "</pre>\n"
            ]
          },
          "metadata": {}
        },
        {
          "output_type": "display_data",
          "data": {
            "text/plain": [
              "\u001b[1m Total params: \u001b[0m\u001b[38;5;34m21,140,042\u001b[0m (80.64 MB)\n"
            ],
            "text/html": [
              "<pre style=\"white-space:pre;overflow-x:auto;line-height:normal;font-family:Menlo,'DejaVu Sans Mono',consolas,'Courier New',monospace\"><span style=\"font-weight: bold\"> Total params: </span><span style=\"color: #00af00; text-decoration-color: #00af00\">21,140,042</span> (80.64 MB)\n",
              "</pre>\n"
            ]
          },
          "metadata": {}
        },
        {
          "output_type": "display_data",
          "data": {
            "text/plain": [
              "\u001b[1m Trainable params: \u001b[0m\u001b[38;5;34m6,425,354\u001b[0m (24.51 MB)\n"
            ],
            "text/html": [
              "<pre style=\"white-space:pre;overflow-x:auto;line-height:normal;font-family:Menlo,'DejaVu Sans Mono',consolas,'Courier New',monospace\"><span style=\"font-weight: bold\"> Trainable params: </span><span style=\"color: #00af00; text-decoration-color: #00af00\">6,425,354</span> (24.51 MB)\n",
              "</pre>\n"
            ]
          },
          "metadata": {}
        },
        {
          "output_type": "display_data",
          "data": {
            "text/plain": [
              "\u001b[1m Non-trainable params: \u001b[0m\u001b[38;5;34m14,714,688\u001b[0m (56.13 MB)\n"
            ],
            "text/html": [
              "<pre style=\"white-space:pre;overflow-x:auto;line-height:normal;font-family:Menlo,'DejaVu Sans Mono',consolas,'Courier New',monospace\"><span style=\"font-weight: bold\"> Non-trainable params: </span><span style=\"color: #00af00; text-decoration-color: #00af00\">14,714,688</span> (56.13 MB)\n",
              "</pre>\n"
            ]
          },
          "metadata": {}
        }
      ],
      "execution_count": 10
    },
    {
      "id": "afb5a067",
      "cell_type": "markdown",
      "source": [
        "4. Huấn luyện model"
      ],
      "metadata": {
        "id": "afb5a067",
        "papermill": {
          "duration": 0.003614,
          "end_time": "2025-06-20T11:45:37.587032",
          "exception": false,
          "start_time": "2025-06-20T11:45:37.583418",
          "status": "completed"
        },
        "tags": []
      }
    },
    {
      "id": "bc47f36a",
      "cell_type": "code",
      "source": [
        "# training\n",
        "H = model.fit(\n",
        "    X_train, Y_train,\n",
        "    validation_data=(X_val, Y_val),\n",
        "    batch_size=32,\n",
        "    epochs=10,\n",
        "    callbacks=callbacks,\n",
        "    verbose=1,\n",
        ")"
      ],
      "metadata": {
        "execution": {
          "iopub.execute_input": "2025-06-20T11:45:37.595519Z",
          "iopub.status.busy": "2025-06-20T11:45:37.595316Z",
          "iopub.status.idle": "2025-06-20T12:02:31.270672Z",
          "shell.execute_reply": "2025-06-20T12:02:31.269885Z"
        },
        "id": "bc47f36a",
        "papermill": {
          "duration": 1013.681389,
          "end_time": "2025-06-20T12:02:31.272113",
          "exception": false,
          "start_time": "2025-06-20T11:45:37.590724",
          "status": "completed"
        },
        "tags": [],
        "colab": {
          "base_uri": "https://localhost:8080/"
        },
        "outputId": "f418c95a-40d5-44b5-9212-67b816ba135f"
      },
      "outputs": [
        {
          "output_type": "stream",
          "name": "stdout",
          "text": [
            "Epoch 1/10\n",
            "\u001b[1m134/134\u001b[0m \u001b[32m━━━━━━━━━━━━━━━━━━━━\u001b[0m\u001b[37m\u001b[0m \u001b[1m3272s\u001b[0m 24s/step - accuracy: 0.2411 - loss: 2.5744 - val_accuracy: 0.5731 - val_loss: 1.4598\n",
            "Epoch 2/10\n",
            "\u001b[1m134/134\u001b[0m \u001b[32m━━━━━━━━━━━━━━━━━━━━\u001b[0m\u001b[37m\u001b[0m \u001b[1m3294s\u001b[0m 24s/step - accuracy: 0.4244 - loss: 1.5447 - val_accuracy: 0.6776 - val_loss: 1.1725\n",
            "Epoch 3/10\n",
            "\u001b[1m134/134\u001b[0m \u001b[32m━━━━━━━━━━━━━━━━━━━━\u001b[0m\u001b[37m\u001b[0m \u001b[1m3221s\u001b[0m 24s/step - accuracy: 0.4665 - loss: 1.4170 - val_accuracy: 0.7404 - val_loss: 0.9673\n",
            "Epoch 4/10\n",
            "\u001b[1m134/134\u001b[0m \u001b[32m━━━━━━━━━━━━━━━━━━━━\u001b[0m\u001b[37m\u001b[0m \u001b[1m3142s\u001b[0m 23s/step - accuracy: 0.5430 - loss: 1.2530 - val_accuracy: 0.7069 - val_loss: 0.9866\n",
            "Epoch 5/10\n",
            "\u001b[1m134/134\u001b[0m \u001b[32m━━━━━━━━━━━━━━━━━━━━\u001b[0m\u001b[37m\u001b[0m \u001b[1m3235s\u001b[0m 24s/step - accuracy: 0.5648 - loss: 1.1823 - val_accuracy: 0.8016 - val_loss: 0.7637\n",
            "Epoch 6/10\n",
            "\u001b[1m134/134\u001b[0m \u001b[32m━━━━━━━━━━━━━━━━━━━━\u001b[0m\u001b[37m\u001b[0m \u001b[1m3248s\u001b[0m 24s/step - accuracy: 0.5746 - loss: 1.1044 - val_accuracy: 0.7927 - val_loss: 0.7169\n",
            "Epoch 7/10\n",
            "\u001b[1m134/134\u001b[0m \u001b[32m━━━━━━━━━━━━━━━━━━━━\u001b[0m\u001b[37m\u001b[0m \u001b[1m3217s\u001b[0m 24s/step - accuracy: 0.6086 - loss: 1.0363 - val_accuracy: 0.8253 - val_loss: 0.6509\n",
            "Epoch 8/10\n",
            "\u001b[1m134/134\u001b[0m \u001b[32m━━━━━━━━━━━━━━━━━━━━\u001b[0m\u001b[37m\u001b[0m \u001b[1m3277s\u001b[0m 24s/step - accuracy: 0.6207 - loss: 0.9511 - val_accuracy: 0.8237 - val_loss: 0.6180\n",
            "Epoch 9/10\n",
            "\u001b[1m134/134\u001b[0m \u001b[32m━━━━━━━━━━━━━━━━━━━━\u001b[0m\u001b[37m\u001b[0m \u001b[1m3184s\u001b[0m 24s/step - accuracy: 0.6518 - loss: 0.9159 - val_accuracy: 0.8114 - val_loss: 0.7082\n",
            "Epoch 10/10\n",
            "\u001b[1m134/134\u001b[0m \u001b[32m━━━━━━━━━━━━━━━━━━━━\u001b[0m\u001b[37m\u001b[0m \u001b[1m3253s\u001b[0m 24s/step - accuracy: 0.6535 - loss: 0.8900 - val_accuracy: 0.8457 - val_loss: 0.5858\n"
          ]
        }
      ],
      "execution_count": 12
    },
    {
      "cell_type": "code",
      "source": [
        "import numpy as np\n",
        "# Find the epoch with the highest validation accuracy\n",
        "best_epoch = np.argmax(H.history['val_accuracy']) + 1\n",
        "best_train_epoch = np.argmax(H.history['accuracy']) + 1\n",
        "best_val_accuracy = H.history['val_accuracy'][best_epoch - 1]\n",
        "best_train_accuracy = H.history['accuracy'][best_train_epoch - 1]\n",
        "print(f\"Best val_accuracy: {best_epoch} với val_accuracy = {best_val_accuracy:.4f}\")\n",
        "print(f\"Best train_accuracy: {best_train_epoch} với train_accuracy = {best_train_accuracy:.4f}\")"
      ],
      "metadata": {
        "id": "teh3uFjHiOmo",
        "colab": {
          "base_uri": "https://localhost:8080/"
        },
        "outputId": "abe6e729-df9e-4f94-cc74-7ee03fcc0a06"
      },
      "id": "teh3uFjHiOmo",
      "execution_count": 13,
      "outputs": [
        {
          "output_type": "stream",
          "name": "stdout",
          "text": [
            "Best val_accuracy: 10 với val_accuracy = 0.8457\n",
            "Best train_accuracy: 10 với train_accuracy = 0.6562\n"
          ]
        }
      ]
    },
    {
      "cell_type": "code",
      "source": [
        "# Lưu mô hình vào Google Drive\n",
        "model_save_path = '/gdrive/MyDrive/DoAN/Model 2/handwritten_digit.h5'\n",
        "model.save(model_save_path)\n",
        "\n",
        "print(f'Model saved to {model_save_path}')"
      ],
      "metadata": {
        "id": "EjYhIaftRayF",
        "colab": {
          "base_uri": "https://localhost:8080/"
        },
        "outputId": "a24032c7-4cd3-46fb-cbd0-650132b21d18"
      },
      "id": "EjYhIaftRayF",
      "execution_count": 14,
      "outputs": [
        {
          "output_type": "stream",
          "name": "stderr",
          "text": [
            "WARNING:absl:You are saving your model as an HDF5 file via `model.save()` or `keras.saving.save_model(model)`. This file format is considered legacy. We recommend using instead the native Keras format, e.g. `model.save('my_model.keras')` or `keras.saving.save_model(model, 'my_model.keras')`. \n"
          ]
        },
        {
          "output_type": "stream",
          "name": "stdout",
          "text": [
            "Model saved to /gdrive/MyDrive/DoAN/Model 2/handwritten_digit.h5\n"
          ]
        }
      ]
    },
    {
      "id": "5ee1a793",
      "cell_type": "markdown",
      "source": [
        "5. Visualization"
      ],
      "metadata": {
        "id": "5ee1a793",
        "papermill": {
          "duration": 0.03018,
          "end_time": "2025-06-20T12:02:31.901977",
          "exception": false,
          "start_time": "2025-06-20T12:02:31.871797",
          "status": "completed"
        },
        "tags": []
      }
    },
    {
      "cell_type": "code",
      "source": [
        "# 12. Vẽ đồ thị loss và accuracy của training & validation\n",
        "# Loss\n",
        "plt.figure(figsize=(8,5))\n",
        "plt.subplot(1, 2, 2)\n",
        "plt.plot(H.history['loss'], label='Train loss')\n",
        "plt.plot(H.history['val_loss'], label='Val loss')\n",
        "plt.title('Training vs Validation Loss')\n",
        "plt.xlabel('Epoch')\n",
        "plt.ylabel('Loss')\n",
        "plt.legend()\n",
        "plt.show()\n",
        "\n",
        "# Accuracy\n",
        "plt.figure(figsize=(8,5))\n",
        "plt.subplot(1, 2, 1)\n",
        "plt.plot(H.history['accuracy'], label='Train acc')\n",
        "plt.plot(H.history['val_accuracy'], label='Val acc')\n",
        "plt.title('Training vs Validation Accuracy')\n",
        "plt.xlabel('Epoch')\n",
        "plt.ylabel('Accuracy')\n",
        "plt.legend()\n",
        "plt.show\n"
      ],
      "metadata": {
        "id": "RkhN9A0SRZWN",
        "colab": {
          "base_uri": "https://localhost:8080/",
          "height": 1000
        },
        "outputId": "e5d8b0ea-5976-49d7-c671-6983c7044384"
      },
      "id": "RkhN9A0SRZWN",
      "execution_count": 15,
      "outputs": [
        {
          "output_type": "display_data",
          "data": {
            "text/plain": [
              "<Figure size 800x500 with 1 Axes>"
            ],
            "image/png": "[encoded data removed]"
          },
          "metadata": {}
        },
        {
          "output_type": "execute_result",
          "data": {
            "text/plain": [
              "<function matplotlib.pyplot.show(close=None, block=None)>"
            ],
            "text/html": [
              "<div style=\"max-width:800px; border: 1px solid var(--colab-border-color);\"><style>\n",
              "      pre.function-repr-contents {\n",
              "        overflow-x: auto;\n",
              "        padding: 8px 12px;\n",
              "        max-height: 500px;\n",
              "      }\n",
              "\n",
              "      pre.function-repr-contents.function-repr-contents-collapsed {\n",
              "        cursor: pointer;\n",
              "        max-height: 100px;\n",
              "      }\n",
              "    </style>\n",
              "    <pre style=\"white-space: initial; background:\n",
              "         var(--colab-secondary-surface-color); padding: 8px 12px;\n",
              "         border-bottom: 1px solid var(--colab-border-color);\"><b>matplotlib.pyplot.show</b><br/>def show(*args, **kwargs) -&gt; None</pre><pre class=\"function-repr-contents function-repr-contents-collapsed\" style=\"\"><a class=\"filepath\" style=\"display:none\" href=\"#\">/usr/local/lib/python3.11/dist-packages/matplotlib/pyplot.py</a>Display all open figures.\n",
              "\n",
              "Parameters\n",
              "----------\n",
              "block : bool, optional\n",
              "    Whether to wait for all figures to be closed before returning.\n",
              "\n",
              "    If `True` block and run the GUI main loop until all figure windows\n",
              "    are closed.\n",
              "\n",
              "    If `False` ensure that all figure windows are displayed and return\n",
              "    immediately.  In this case, you are responsible for ensuring\n",
              "    that the event loop is running to have responsive figures.\n",
              "\n",
              "    Defaults to True in non-interactive mode and to False in interactive\n",
              "    mode (see `.pyplot.isinteractive`).\n",
              "\n",
              "See Also\n",
              "--------\n",
              "ion : Enable interactive mode, which shows / updates the figure after\n",
              "      every plotting command, so that calling ``show()`` is not necessary.\n",
              "ioff : Disable interactive mode.\n",
              "savefig : Save the figure to an image file instead of showing it on screen.\n",
              "\n",
              "Notes\n",
              "-----\n",
              "**Saving figures to file and showing a window at the same time**\n",
              "\n",
              "If you want an image file as well as a user interface window, use\n",
              "`.pyplot.savefig` before `.pyplot.show`. At the end of (a blocking)\n",
              "``show()`` the figure is closed and thus unregistered from pyplot. Calling\n",
              "`.pyplot.savefig` afterwards would save a new and thus empty figure. This\n",
              "limitation of command order does not apply if the show is non-blocking or\n",
              "if you keep a reference to the figure and use `.Figure.savefig`.\n",
              "\n",
              "**Auto-show in jupyter notebooks**\n",
              "\n",
              "The jupyter backends (activated via ``%matplotlib inline``,\n",
              "``%matplotlib notebook``, or ``%matplotlib widget``), call ``show()`` at\n",
              "the end of every cell by default. Thus, you usually don&#x27;t have to call it\n",
              "explicitly there.</pre>\n",
              "      <script>\n",
              "      if (google.colab.kernel.accessAllowed && google.colab.files && google.colab.files.view) {\n",
              "        for (const element of document.querySelectorAll('.filepath')) {\n",
              "          element.style.display = 'block'\n",
              "          element.onclick = (event) => {\n",
              "            event.preventDefault();\n",
              "            event.stopPropagation();\n",
              "            google.colab.files.view(element.textContent, 569);\n",
              "          };\n",
              "        }\n",
              "      }\n",
              "      for (const element of document.querySelectorAll('.function-repr-contents')) {\n",
              "        element.onclick = (event) => {\n",
              "          event.preventDefault();\n",
              "          event.stopPropagation();\n",
              "          element.classList.toggle('function-repr-contents-collapsed');\n",
              "        };\n",
              "      }\n",
              "      </script>\n",
              "      </div>"
            ]
          },
          "metadata": {},
          "execution_count": 15
        },
        {
          "output_type": "display_data",
          "data": {
            "text/plain": [
              "<Figure size 800x500 with 1 Axes>"
            ],
            "image/png": "[encoded data removed]"
          },
          "metadata": {}
        }
      ]
    },
    {
      "id": "02a55582",
      "cell_type": "markdown",
      "source": [
        "6.  Dự đoán trên dữ liệu"
      ],
      "metadata": {
        "papermill": {
          "duration": 0.031152,
          "end_time": "2025-06-20T12:02:32.658817",
          "exception": false,
          "start_time": "2025-06-20T12:02:32.627665",
          "status": "completed"
        },
        "tags": [],
        "id": "02a55582"
      }
    },
    {
      "cell_type": "code",
      "source": [
        "import os\n",
        "import cv2\n",
        "import numpy as np\n",
        "\n",
        "# Hàm dự đoán và lưu kết quả\n",
        "def predict_and_save_results(model, data_dir, img_size=(224,224)):\n",
        "    X, filenames = [], []\n",
        "\n",
        "    # Kiểm tra lại img_size có đúng định dạng không\n",
        "    if not isinstance(img_size, tuple) or len(img_size) != 2:\n",
        "        raise ValueError(f\"img_size phai co 2 phan tu. Hien tai la {img_size}\")\n",
        "\n",
        "    # Duyệt qua tất cả các file trong thư mục dữ liệu\n",
        "    for fname in os.listdir(data_dir):\n",
        "        if fname.lower().endswith(('.jpg', '.jpeg', '.png','.heic','.jfif')):  # Lọc các ảnh\n",
        "            path = os.path.join(data_dir, fname)\n",
        "            img = cv2.imread(path, cv2.IMREAD_COLOR)\n",
        "            if img is None:\n",
        "                continue\n",
        "            img = cv2.cvtColor(img, cv2.COLOR_BGR2RGB)  # Đổi sang RGB\n",
        "\n",
        "            # Resize hình ảnh về kích thước 224x224\n",
        "            img = cv2.resize(img, img_size)  # Resize ảnh\n",
        "            img = img.astype(np.float16) / 255.0  # Chuẩn hóa ảnh\n",
        "            X.append(img)\n",
        "            filenames.append(fname)\n",
        "\n",
        "    # Chuyển X thành mảng numpy\n",
        "    X = np.array(X)\n",
        "\n",
        "    # Dự đoán nhãn\n",
        "    predictions = model.predict(X)\n",
        "    predicted_classes = np.argmax(predictions, axis=1)  # Lấy nhãn có xác suất cao nhất\n",
        "\n",
        "    # Lưu kết quả vào file CSV với định dạng tên file và nhãn\n",
        "    result_file = '/gdrive/MyDrive/DoAN/Model 2/predictions.csv'  # Đường dẫn mới lưu kết quả vào Google Drive\n",
        "    os.makedirs(os.path.dirname(result_file), exist_ok=True)  # Đảm bảo thư mục tồn tại\n",
        "\n",
        "    with open(result_file, 'w') as f:\n",
        "        for fname, predicted_class in zip(filenames, predicted_classes):\n",
        "            # Đảm bảo giữ nguyên tên file đầy đủ (bao gồm phần mở rộng)\n",
        "            f.write(f\"{fname},{predicted_class}\\n\")\n",
        "\n",
        "    print(f\"Results saved to {result_file}\")\n",
        "\n",
        "# Dự đoán cho bộ test từ Google Drive\n",
        "dataset_path_test = '/gdrive/MyDrive/DoAN/Bai05/data.2025'\n",
        "predict_and_save_results(model, dataset_path_test)\n"
      ],
      "metadata": {
        "id": "BqIMb-0aGZRW"
      },
      "id": "BqIMb-0aGZRW",
      "execution_count": null,
      "outputs": []
    }
  ]
}